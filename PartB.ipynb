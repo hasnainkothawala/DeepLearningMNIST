{
 "cells": [
  {
   "cell_type": "code",
   "execution_count": 9,
   "metadata": {
    "colab": {
     "base_uri": "https://localhost:8080/",
     "height": 36
    },
    "colab_type": "code",
    "executionInfo": {
     "elapsed": 524,
     "status": "ok",
     "timestamp": 1586636565006,
     "user": {
      "displayName": "Hasnain Kothawala",
      "photoUrl": "",
      "userId": "13983496416047781816"
     },
     "user_tz": -60
    },
    "id": "q7xi5b04JWGR",
    "outputId": "22203bdb-5096-4612-cea5-e0330ad3268e"
   },
   "outputs": [],
   "source": [
    "# # Colab has two versions of TensorFlow installed: a 1.x version and a 2.x version. \n",
    "# # Colab currently uses TF 1.x by default\n",
    "# # To enable TF2 execute the following code\n",
    "\n",
    "# %tensorflow_version 2.x\n",
    "# import tensorflow as tf\n",
    "# print(tf.__version__)\n"
   ]
  },
  {
   "cell_type": "code",
   "execution_count": 10,
   "metadata": {
    "colab": {
     "base_uri": "https://localhost:8080/",
     "height": 131
    },
    "colab_type": "code",
    "executionInfo": {
     "elapsed": 23784,
     "status": "ok",
     "timestamp": 1586636588275,
     "user": {
      "displayName": "Hasnain Kothawala",
      "photoUrl": "",
      "userId": "13983496416047781816"
     },
     "user_tz": -60
    },
    "id": "A-TWZop9QCMa",
    "outputId": "61cfda1b-7efe-4c08-9663-ed07082427a6"
   },
   "outputs": [],
   "source": [
    "# from google.colab import drive\n",
    "\n",
    "# drive.mount('/content/gdrive')"
   ]
  },
  {
   "cell_type": "code",
   "execution_count": 11,
   "metadata": {
    "colab": {
     "base_uri": "https://localhost:8080/",
     "height": 36
    },
    "colab_type": "code",
    "executionInfo": {
     "elapsed": 24854,
     "status": "ok",
     "timestamp": 1586636589352,
     "user": {
      "displayName": "Hasnain Kothawala",
      "photoUrl": "",
      "userId": "13983496416047781816"
     },
     "user_tz": -60
    },
    "id": "Z50GDzm4RoAx",
    "outputId": "77823e05-31e6-49e7-d641-41f888ccfca9"
   },
   "outputs": [],
   "source": [
    "# # check to make sure your dat ais at the correct location\n",
    "\n",
    "# !ls /content/gdrive/'My Drive'/'Deep Learning'/'Assignment 1'/\n"
   ]
  },
  {
   "cell_type": "code",
   "execution_count": 12,
   "metadata": {
    "colab": {
     "base_uri": "https://localhost:8080/",
     "height": 54
    },
    "colab_type": "code",
    "executionInfo": {
     "elapsed": 35039,
     "status": "ok",
     "timestamp": 1586636599544,
     "user": {
      "displayName": "Hasnain Kothawala",
      "photoUrl": "",
      "userId": "13983496416047781816"
     },
     "user_tz": -60
    },
    "id": "-OK2rzyhIo5E",
    "outputId": "61c074dd-9240-417b-c80d-00664ce8123c"
   },
   "outputs": [],
   "source": [
    "# !unzip \"/content/gdrive/My Drive/Deep Learning/Assignment 1/data-1.zip\""
   ]
  },
  {
   "cell_type": "code",
   "execution_count": 13,
   "metadata": {
    "colab": {
     "base_uri": "https://localhost:8080/",
     "height": 204
    },
    "colab_type": "code",
    "executionInfo": {
     "elapsed": 36067,
     "status": "ok",
     "timestamp": 1586636600580,
     "user": {
      "displayName": "Hasnain Kothawala",
      "photoUrl": "",
      "userId": "13983496416047781816"
     },
     "user_tz": -60
    },
    "id": "c2eRNWJEQoHj",
    "outputId": "8345aa4e-7d4c-4566-d2da-7c7281fcfb1a"
   },
   "outputs": [
    {
     "name": "stdout",
     "output_type": "stream",
     "text": [
      "List of arrays in this file: \n",
      " <KeysViewHDF5 ['testData', 'trainData']>\n",
      "Shape of the feature training data: \n",
      " (200000, 784)\n",
      "Shape of the feature test data: \n",
      " (17000, 784)\n",
      "Shape of the true training class labels: \n",
      " (200000,)\n",
      "Shape of the true test class labels: \n",
      " (17000,)\n"
     ]
    }
   ],
   "source": [
    "# In this code we load the training and test data\n",
    "\n",
    "import numpy as np\n",
    "import h5py\n",
    "\n",
    "  \n",
    "def loadData():\n",
    "    with h5py.File('data.h5','r') as hf:\n",
    "      print('List of arrays in this file: \\n', hf.keys())\n",
    "      allTrain = hf.get('trainData')\n",
    "      allTest = hf.get('testData')\n",
    "      npTrain = np.array(allTrain)\n",
    "      npTest = np.array(allTest)\n",
    "        \n",
    "\n",
    "    return npTrain[:,:-1], npTrain[:, -1], npTest[:,:-1], npTest[:, -1]\n",
    "\n",
    "trainX, trainY, testX, testY = loadData()\n",
    "\n",
    "print('Shape of the feature training data: \\n', trainX.shape)\n",
    "print('Shape of the feature test data: \\n', testX.shape)\n",
    "print('Shape of the true training class labels: \\n', trainY.shape)\n",
    "print('Shape of the true test class labels: \\n', testY.shape)\n"
   ]
  },
  {
   "cell_type": "code",
   "execution_count": 14,
   "metadata": {
    "colab": {},
    "colab_type": "code",
    "id": "d9-2Lparzkab"
   },
   "outputs": [],
   "source": [
    "# import the necessary packages\n",
    "import tensorflow as tf\n",
    "from sklearn.metrics import classification_report\n",
    "import matplotlib.pyplot as plt\n",
    "import numpy as np\n",
    "from tensorflow.keras import layers\n",
    "\n",
    "\n"
   ]
  },
  {
   "cell_type": "code",
   "execution_count": 17,
   "metadata": {
    "colab": {
     "base_uri": "https://localhost:8080/",
     "height": 1000
    },
    "colab_type": "code",
    "executionInfo": {
     "elapsed": 267978,
     "status": "ok",
     "timestamp": 1586388032019,
     "user": {
      "displayName": "Hasnain Kothawala",
      "photoUrl": "",
      "userId": "13983496416047781816"
     },
     "user_tz": -60
    },
    "id": "aVzO_jrTU3S5",
    "outputId": "741447db-c7ee-41b0-c888-005a38b27d2c",
    "scrolled": true
   },
   "outputs": [
    {
     "name": "stdout",
     "output_type": "stream",
     "text": [
      "Compiling model...\n",
      "Training network...\n",
      "Train on 180000 samples, validate on 20000 samples\n",
      "Epoch 1/30\n",
      "180000/180000 [==============================] - 37s 207us/sample - loss: 0.5289 - accuracy: 0.8414 - val_loss: 0.4303 - val_accuracy: 0.8699\n",
      "Epoch 2/30\n",
      "180000/180000 [==============================] - 39s 217us/sample - loss: 0.4420 - accuracy: 0.8673 - val_loss: 0.4071 - val_accuracy: 0.8762\n",
      "Epoch 3/30\n",
      "180000/180000 [==============================] - 39s 217us/sample - loss: 0.4084 - accuracy: 0.8764 - val_loss: 0.3824 - val_accuracy: 0.8842\n",
      "Epoch 4/30\n",
      "180000/180000 [==============================] - 37s 205us/sample - loss: 0.3919 - accuracy: 0.8817 - val_loss: 0.3768 - val_accuracy: 0.8892\n",
      "Epoch 5/30\n",
      "180000/180000 [==============================] - 37s 205us/sample - loss: 0.3792 - accuracy: 0.8853 - val_loss: 0.3778 - val_accuracy: 0.8878\n",
      "Epoch 6/30\n",
      "180000/180000 [==============================] - 44s 242us/sample - loss: 0.3654 - accuracy: 0.8883 - val_loss: 0.3700 - val_accuracy: 0.8894\n",
      "Epoch 7/30\n",
      "180000/180000 [==============================] - 48s 267us/sample - loss: 0.3602 - accuracy: 0.8902 - val_loss: 0.3644 - val_accuracy: 0.8899\n",
      "Epoch 8/30\n",
      "180000/180000 [==============================] - 40s 225us/sample - loss: 0.3548 - accuracy: 0.8922 - val_loss: 0.3524 - val_accuracy: 0.8971\n",
      "Epoch 9/30\n",
      "180000/180000 [==============================] - 39s 217us/sample - loss: 0.3504 - accuracy: 0.8932 - val_loss: 0.3517 - val_accuracy: 0.8954\n",
      "Epoch 10/30\n",
      "180000/180000 [==============================] - 41s 231us/sample - loss: 0.3458 - accuracy: 0.8946 - val_loss: 0.3530 - val_accuracy: 0.8961\n",
      "Epoch 11/30\n",
      "180000/180000 [==============================] - 41s 229us/sample - loss: 0.3398 - accuracy: 0.8973 - val_loss: 0.3503 - val_accuracy: 0.8970\n",
      "Epoch 12/30\n",
      "180000/180000 [==============================] - 39s 215us/sample - loss: 0.3316 - accuracy: 0.8984 - val_loss: 0.3601 - val_accuracy: 0.8932\n",
      "Epoch 13/30\n",
      "180000/180000 [==============================] - 39s 219us/sample - loss: 0.3299 - accuracy: 0.8992 - val_loss: 0.3557 - val_accuracy: 0.8949\n",
      "Epoch 14/30\n",
      "180000/180000 [==============================] - 40s 220us/sample - loss: 0.3278 - accuracy: 0.8992 - val_loss: 0.3565 - val_accuracy: 0.8974\n",
      "Epoch 15/30\n",
      "180000/180000 [==============================] - 40s 220us/sample - loss: 0.3255 - accuracy: 0.9007 - val_loss: 0.3592 - val_accuracy: 0.8986\n",
      "Epoch 16/30\n",
      "180000/180000 [==============================] - 42s 231us/sample - loss: 0.3196 - accuracy: 0.9027 - val_loss: 0.3504 - val_accuracy: 0.8985\n",
      "Epoch 17/30\n",
      "180000/180000 [==============================] - 41s 230us/sample - loss: 0.3180 - accuracy: 0.9033 - val_loss: 0.3541 - val_accuracy: 0.8964\n",
      "Epoch 18/30\n",
      "180000/180000 [==============================] - 42s 235us/sample - loss: 0.3172 - accuracy: 0.9030 - val_loss: 0.3603 - val_accuracy: 0.8997\n",
      "Epoch 19/30\n",
      "180000/180000 [==============================] - 41s 230us/sample - loss: 0.3126 - accuracy: 0.9044 - val_loss: 0.3712 - val_accuracy: 0.8949\n",
      "Epoch 20/30\n",
      "180000/180000 [==============================] - 40s 224us/sample - loss: 0.3122 - accuracy: 0.9045 - val_loss: 0.3525 - val_accuracy: 0.8986\n",
      "Epoch 21/30\n",
      "180000/180000 [==============================] - 39s 218us/sample - loss: 0.3099 - accuracy: 0.9055 - val_loss: 0.3534 - val_accuracy: 0.8997\n",
      "Epoch 22/30\n",
      "180000/180000 [==============================] - 39s 219us/sample - loss: 0.3052 - accuracy: 0.9061 - val_loss: 0.3557 - val_accuracy: 0.8992\n",
      "Epoch 23/30\n",
      "180000/180000 [==============================] - 39s 218us/sample - loss: 0.3091 - accuracy: 0.9060 - val_loss: 0.3593 - val_accuracy: 0.8995\n",
      "Epoch 24/30\n",
      "180000/180000 [==============================] - 41s 227us/sample - loss: 0.3053 - accuracy: 0.9073 - val_loss: 0.3747 - val_accuracy: 0.8970\n",
      "Epoch 25/30\n",
      "180000/180000 [==============================] - 39s 219us/sample - loss: 0.3046 - accuracy: 0.9070 - val_loss: 0.3836 - val_accuracy: 0.8953\n",
      "Epoch 26/30\n",
      "180000/180000 [==============================] - 40s 225us/sample - loss: 0.3080 - accuracy: 0.9065 - val_loss: 0.3618 - val_accuracy: 0.9020\n",
      "Epoch 27/30\n",
      "180000/180000 [==============================] - 38s 214us/sample - loss: 0.2991 - accuracy: 0.9090 - val_loss: 0.3726 - val_accuracy: 0.9014\n",
      "Epoch 28/30\n",
      "180000/180000 [==============================] - 39s 217us/sample - loss: 0.2993 - accuracy: 0.9093 - val_loss: 0.3733 - val_accuracy: 0.8981\n",
      "Epoch 29/30\n",
      "180000/180000 [==============================] - 40s 224us/sample - loss: 0.2999 - accuracy: 0.9087 - val_loss: 0.3819 - val_accuracy: 0.8992\n",
      "Epoch 30/30\n",
      "180000/180000 [==============================] - 39s 214us/sample - loss: 0.2937 - accuracy: 0.9102 - val_loss: 0.3848 - val_accuracy: 0.9003\n",
      "[[1613    5    2   10    3    3    8   19   59   13]\n",
      " [   7 1577    3   27    9    4    8   21   68    3]\n",
      " [   5    3 1615    1   12    5   27    6   50    5]\n",
      " [   9   19    4 1599    2    1    5    8   61   16]\n",
      " [  10   20   26    1 1520   17   18   13   85    3]\n",
      " [  13   11    2    3    6 1602    5    3   67    9]\n",
      " [   7   18   18    7    7    4 1584   10   61    5]\n",
      " [  20   11    2    6    6    6    3 1580   52    3]\n",
      " [   5    6    5   15    9    7   10   14 1376   48]\n",
      " [  12    6    2    9    1    3    9   19   84 1601]]\n"
     ]
    },
    {
     "data": {
      "text/plain": [
       "<matplotlib.legend.Legend at 0x12db324ad08>"
      ]
     },
     "execution_count": 17,
     "metadata": {},
     "output_type": "execute_result"
    },
    {
     "data": {
      "image/png": "[encoded data removed]",
      "text/plain": [
       "<Figure size 432x288 with 1 Axes>"
      ]
     },
     "metadata": {},
     "output_type": "display_data"
    }
   ],
   "source": [
    "\n",
    "from tensorflow.keras import layers\n",
    "from sklearn.metrics import confusion_matrix\n",
    "NUM_EPOCHS = 30\n",
    "\n",
    "\n",
    "# initialize the optimizer and model\n",
    "print(\"Compiling model...\")\n",
    "\n",
    "\n",
    "\"\"\"Configure the architecture here..\"\"\"\n",
    "\n",
    "#Model with only Softmax Layer - Softmax classifier\n",
    "# model=tf.keras.models.Sequential([layers.Dense(10, activation=tf.nn.softmax, input_shape= (784,) ) ])\n",
    "\n",
    "\"\"\"Configure the architecture here..\"\"\"\n",
    "# Model with Softmax and ReLu Layers  #L1 200 Neurons   L2 Softmax \n",
    "# model=tf.keras.models.Sequential([layers.Dense(300, activation=tf.nn.relu, input_shape= (784,) ) ,\n",
    "#                                   layers.Dense(10, activation=tf.nn.softmax, input_shape= (784,) ) ])\n",
    "\n",
    "# Model with Softmax and ReLu Layers  #L1 400 Neurons  L2 200 Neurons   L3 Softmax \n",
    "# model=tf.keras.models.Sequential([ layers.Dense(400, activation=tf.nn.relu, input_shape= (784,) ) ,\n",
    "# \t                                 layers.Dense(200, activation=tf.nn.relu ) ,\n",
    "#                             \t\t\t layers.Dense(10, activation=tf.nn.softmax) \n",
    "# \t\t\t\t\t\t\t\t\t\t\t\t\t\t\t\t ])\n",
    "\n",
    "# Model with Softmax and ReLu Layers  #L1 600 Neurons  L2 400 Neurons   L3 200 Neurons   L4 Softmax \n",
    "# model=tf.keras.models.Sequential([ layers.Dense(600, activation=tf.nn.relu, input_shape= (784,)),\n",
    "# \t                               layers.Dense(400, activation=tf.nn.relu ) ,\n",
    "# \t                               layers.Dense(200, activation=tf.nn.relu ) ,\n",
    "#                             \t   layers.Dense(10, activation=tf.nn.softmax) \n",
    "# \t\t\t\t\t\t\t\t\t\t\t\t\t\t\t\t ])\n",
    "\n",
    "# Model with Drop out - #L1 600 Neurons  L2 400 Neurons   L3 200 Neurons   L4 Softmax  (with drop out)\n",
    "model=tf.keras.models.Sequential([ layers.Dense(600, activation=tf.nn.relu, input_shape= (784,)),\n",
    "                                   layers.Dropout(0.2), \n",
    "\t                               layers.Dense(400, activation=tf.nn.relu ) ,\n",
    "\t\t\t\t\t\t\t       layers.Dropout(0.2), \n",
    "\t                               layers.Dense(200, activation=tf.nn.relu ) ,\n",
    "\t\t\t\t\t\t\t\t   layers.Dropout(0.2), \n",
    "                            \t   layers.Dense(10, activation=tf.nn.softmax) \n",
    "\t\t\t\t\t\t\t\t\t\t\t\t\t\t\t\t ])\n",
    "\n",
    "# Model with Drop out - #L1 800 Neurons L2 600 Neurons  L3 400 Neurons   L4 200 Neurons   L5 Softmax  (with drop out)\n",
    "# model=tf.keras.models.Sequential([ layers.Dense(800, activation=tf.nn.relu, input_shape= (784,)),\n",
    "#                                    layers.Dropout(0.3),\n",
    "#                                     layers.Dense(600, activation=tf.nn.relu),\n",
    "#                                    layers.Dropout(0.3),\n",
    "# \t                                 layers.Dense(400, activation=tf.nn.relu ) ,\n",
    "# \t\t\t\t\t\t\t\t\t\t\t\t\t\t\t\t\t layers.Dropout(0.3), \n",
    "# \t                                 layers.Dense(200, activation=tf.nn.relu ) ,\n",
    "# \t\t\t\t\t\t\t\t\t\t\t\t\t\t\t\t\t layers.Dropout(0.3), \n",
    "#                             \t\t\t layers.Dense(10, activation=tf.nn.softmax) \n",
    "# \t\t\t\t\t\t\t\t\t\t\t\t\t\t\t\t ])\n",
    "\n",
    "\n",
    "\"\"\" Passing the model to an optimizer \"\"\"\n",
    "\n",
    "model.compile(optimizer='adam', loss='sparse_categorical_crossentropy', metrics=['accuracy'])\n",
    "\n",
    "\n",
    "\"\"\"train the network\"\"\"\n",
    "print(\"Training network...\")\n",
    "history     = model.fit(trainX, trainY, validation_split=0.1, epochs=NUM_EPOCHS)\n",
    "resultsProb = model.predict(testX)\n",
    "\n",
    "\"\"\"calculate predicted results from probabilities (horizontal axis) \"\"\"\n",
    "results = np.argmax(resultsProb, axis =1)\n",
    "print(confusion_matrix(testY, results))\n",
    "\n",
    "\n",
    "\"\"\"Plotting The Performance\"\"\"\n",
    "\n",
    "# configuration = 'Basic with 10 softmax neurons'\n",
    "# configuration = '200 Relu, 10 softmax neurons'\n",
    "# configuration = '400 ReLu, 200 Relu, 10 softmax neurons'\n",
    "# configuration = '600 ReLu, 400 ReLu, 200 Relu, 10 softmax neurons'\n",
    "# configuration = '800 ReLu, 600 ReLu, 400 ReLu, 200 Relu, 10 softmax neurons'\n",
    "\n",
    "# configuration = '600 ReLu, 0.3D, 400 ReLu, 0.2D, 200 Relu \\n 0.1D, 10 softmax neurons'\n",
    "configuration = '600 ReLu, 400 ReLu, 200 Relu, 10 softmax neurons \\n Dropout:0.2'\n",
    "\n",
    "\n",
    "plt.style.use(\"ggplot\") \n",
    "plt.figure()\n",
    "plt.plot(np.arange(0, NUM_EPOCHS), history.history[\"loss\"], label=\"train_loss\")\n",
    "plt.plot(np.arange(0, NUM_EPOCHS), history.history[\"val_loss\"], label=\"val_loss\") \n",
    "plt.plot(np.arange(0, NUM_EPOCHS), history.history[\"accuracy\"], label=\"train_acc\")\n",
    "plt.plot(np.arange(0, NUM_EPOCHS), history.history[\"val_accuracy\"], label=\"val_acc\") \n",
    "plt.title(\"Training Loss and Accuracy \\n\"+configuration+' Epochs:'+str (NUM_EPOCHS)) \n",
    "plt.xlabel(\"Epoch #\") \n",
    "plt.ylabel(\"Loss/Accuracy\")\n",
    "plt.legend()"
   ]
  },
  {
   "cell_type": "code",
   "execution_count": null,
   "metadata": {
    "colab": {},
    "colab_type": "code",
    "id": "-vAtEQruWfOA"
   },
   "outputs": [],
   "source": []
  },
  {
   "cell_type": "code",
   "execution_count": null,
   "metadata": {},
   "outputs": [],
   "source": []
  },
  {
   "cell_type": "code",
   "execution_count": null,
   "metadata": {},
   "outputs": [],
   "source": []
  }
 ],
 "metadata": {
  "accelerator": "GPU",
  "colab": {
   "collapsed_sections": [],
   "machine_shape": "hm",
   "name": "PartB.ipynb",
   "provenance": [
    {
     "file_id": "1o0EoSJMFTReUZZ7wiUamKVqgJUUfmkrZ",
     "timestamp": 1586257057654
    },
    {
     "file_id": "1q13DlNBXXuIQTE4t9YWVJ3xti72G4ESP",
     "timestamp": 1584895201471
    }
   ]
  },
  "kernelspec": {
   "display_name": "Python 3",
   "language": "python",
   "name": "python3"
  },
  "language_info": {
   "codemirror_mode": {
    "name": "ipython",
    "version": 3
   },
   "file_extension": ".py",
   "mimetype": "text/x-python",
   "name": "python",
   "nbconvert_exporter": "python",
   "pygments_lexer": "ipython3",
   "version": "3.7.5"
  }
 },
 "nbformat": 4,
 "nbformat_minor": 1
}
